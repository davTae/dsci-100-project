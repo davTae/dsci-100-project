{
 "cells": [
  {
   "cell_type": "markdown",
   "id": "1b8f8e63-fa23-4fe8-ac56-e08404f0097f",
   "metadata": {},
   "source": [
    "# DSCI 100 Project Proposal\n",
    "\n",
    "## **I. Title**\n",
    "### Categorizing heart disease patients in Cleveland based on Age, Resting Blood Pressure and Heart Rate.\n",
    "By: Davina Deng, Kevin Peng\n",
    "\n",
    "--- ---"
   ]
  },
  {
   "cell_type": "markdown",
   "id": "de7a2f90-ed7a-406d-8512-0d7483786868",
   "metadata": {},
   "source": [
    "## **II. Introduction** \n",
    "Heart disease, also known as cardiovascular disease, encompasses a range of conditions that affect the heart and blood vessels. Common types include coronary artery disease, arrhythmias and heart failure. Causes usually involve lifestyle factors such as poor diet, physical inactivity and smoking, as well as genetic predisposition. Symptoms can vary widely but usually include chest pain, shortness of breath and fatigue. Preventive measures include maintaining a healthy lifestyle and controlling risk factors such as high blood pressure and high cholesterol.\n",
    "\n",
    "Elevated resting blood pressure puts extra pressure on the artery walls, which in the long term can lead to damage to the artery walls and an increased risk of heart disease, stroke and other cardiovascular complications. High blood pressure forces the heart to work harder to pump blood, which can lead to heart failure if left unchecked. \r\n",
    "Similarly, maximum heart ra , can give insight into cardiovascular health. A lower maximum heart rate indicates poorer heart function, while a high heart rate during exercise may signal underlying cardiovascular problems. Resting heart rate and maximum heart rate are important for predicting cardiovascular events and managing long-term heart healt (Christofaro et al., 2017)\n",
    "\n",
    "Based on the connections, my question is: **Are new patients likely to have heart disease based on their resting blood pressure and maximum heart rate?** To answer this, I will use a knn classification algorithm.\n",
    "\n",
    "I will use processed.cleveland.data from the Heart Disease Database (originally collected by the Cleveland Clinic Foundation) to predict whether or not a patient in Cleveland will develop heart disease. \n",
    "\n",
    "The variables (data columns) are as follows:\n",
    "\n",
    "1. **age**: age\n",
    "2. **sex**: sex (1 = male, 0 = female)\n",
    "3. **cp**: chest pain type\n",
    "4. **trestbps**: resting blood pressure in mmHg\n",
    "5. **chol**: serum cholestoral in mg/dl\n",
    "6. **fbs**: fasting blood sugar > 120 mg/dl? (1 = True, 0 = False)\n",
    "7. **restecg**: resting electrocardiographic results\n",
    "8. **thalach**: maximum heart rate achieved\n",
    "9. **exang**: whether exercise induced angina (1 = True, 0 = False)\n",
    "10. **oldpeak**: ST depression induced by exercise, relative to rest\n",
    "11. **slope**: the slope of the peak exercise ST segment (1 = upslope, 2 = flat, 3 = downslope)\n",
    "12. **ca**: number of major vessels (0-3) colored by flourosopy\n",
    "13. **thal**: (3 = normal, 6 = fixed defect, 7 = reversable defect)\n",
    "14. **num**: diagnosis of heart disease (1,2,3,4 = presence, 0 = no presence)\n",
    "\n",
    "There are 303 rows in total. Each column is numeric-valued, with missing data represented as the string \"?\".\n",
    "\n",
    "Based on the list above, I will use `trestbps` and `thalach` as predictors, to classify patients on whether or not they develop heart disease.\n",
    "\n",
    "\n",
    "n)n)"
   ]
  },
  {
   "cell_type": "markdown",
   "id": "fa7a9800-027c-4faf-b6f6-4f579f75220c",
   "metadata": {},
   "source": [
    "## **III. Preliminary exploratory data analysis**"
   ]
  },
  {
   "cell_type": "code",
   "execution_count": 10,
   "id": "4af062e9-983a-455f-b158-56f953375ee3",
   "metadata": {},
   "outputs": [],
   "source": [
    "# loading all the packages we need for our proposal\n",
    "library(tidyverse)\n",
    "library(utils)\n",
    "library(tidymodels)\n",
    "library(rvest)\n",
    "library(GGally)\n",
    "\n",
    "# Formatting graphs\n",
    "options(repr.matrix.max.rows = 6)"
   ]
  },
  {
   "cell_type": "markdown",
   "id": "823bc258-08ae-491b-8620-170057f54104",
   "metadata": {},
   "source": [
    "Use `read_csv()` to load the processed.cleveland.data dataset from the online directory."
   ]
  },
  {
   "cell_type": "code",
   "execution_count": 20,
   "id": "7dda05f3-f7f6-456a-aeaf-e4f77912466c",
   "metadata": {},
   "outputs": [
    {
     "name": "stderr",
     "output_type": "stream",
     "text": [
      "\u001b[1mRows: \u001b[22m\u001b[34m303\u001b[39m \u001b[1mColumns: \u001b[22m\u001b[34m14\u001b[39m\n",
      "\u001b[36m──\u001b[39m \u001b[1mColumn specification\u001b[22m \u001b[36m────────────────────────────────────────────────────────\u001b[39m\n",
      "\u001b[1mDelimiter:\u001b[22m \",\"\n",
      "\u001b[31mchr\u001b[39m  (2): X12, X13\n",
      "\u001b[32mdbl\u001b[39m (12): X1, X2, X3, X4, X5, X6, X7, X8, X9, X10, X11, X14\n",
      "\n",
      "\u001b[36mℹ\u001b[39m Use `spec()` to retrieve the full column specification for this data.\n",
      "\u001b[36mℹ\u001b[39m Specify the column types or set `show_col_types = FALSE` to quiet this message.\n"
     ]
    },
    {
     "data": {
      "text/html": [
       "<table class=\"dataframe\">\n",
       "<caption>A spec_tbl_df: 303 × 14</caption>\n",
       "<thead>\n",
       "\t<tr><th scope=col>X1</th><th scope=col>X2</th><th scope=col>X3</th><th scope=col>X4</th><th scope=col>X5</th><th scope=col>X6</th><th scope=col>X7</th><th scope=col>X8</th><th scope=col>X9</th><th scope=col>X10</th><th scope=col>X11</th><th scope=col>X12</th><th scope=col>X13</th><th scope=col>X14</th></tr>\n",
       "\t<tr><th scope=col>&lt;dbl&gt;</th><th scope=col>&lt;dbl&gt;</th><th scope=col>&lt;dbl&gt;</th><th scope=col>&lt;dbl&gt;</th><th scope=col>&lt;dbl&gt;</th><th scope=col>&lt;dbl&gt;</th><th scope=col>&lt;dbl&gt;</th><th scope=col>&lt;dbl&gt;</th><th scope=col>&lt;dbl&gt;</th><th scope=col>&lt;dbl&gt;</th><th scope=col>&lt;dbl&gt;</th><th scope=col>&lt;chr&gt;</th><th scope=col>&lt;chr&gt;</th><th scope=col>&lt;dbl&gt;</th></tr>\n",
       "</thead>\n",
       "<tbody>\n",
       "\t<tr><td>63</td><td>1</td><td>1</td><td>145</td><td>233</td><td>1</td><td>2</td><td>150</td><td>0</td><td>2.3</td><td>3</td><td>0.0</td><td>6.0</td><td>0</td></tr>\n",
       "\t<tr><td>67</td><td>1</td><td>4</td><td>160</td><td>286</td><td>0</td><td>2</td><td>108</td><td>1</td><td>1.5</td><td>2</td><td>3.0</td><td>3.0</td><td>2</td></tr>\n",
       "\t<tr><td>67</td><td>1</td><td>4</td><td>120</td><td>229</td><td>0</td><td>2</td><td>129</td><td>1</td><td>2.6</td><td>2</td><td>2.0</td><td>7.0</td><td>1</td></tr>\n",
       "\t<tr><td>⋮</td><td>⋮</td><td>⋮</td><td>⋮</td><td>⋮</td><td>⋮</td><td>⋮</td><td>⋮</td><td>⋮</td><td>⋮</td><td>⋮</td><td>⋮</td><td>⋮</td><td>⋮</td></tr>\n",
       "\t<tr><td>57</td><td>1</td><td>4</td><td>130</td><td>131</td><td>0</td><td>0</td><td>115</td><td>1</td><td>1.2</td><td>2</td><td>1.0</td><td>7.0</td><td>3</td></tr>\n",
       "\t<tr><td>57</td><td>0</td><td>2</td><td>130</td><td>236</td><td>0</td><td>2</td><td>174</td><td>0</td><td>0.0</td><td>2</td><td>1.0</td><td>3.0</td><td>1</td></tr>\n",
       "\t<tr><td>38</td><td>1</td><td>3</td><td>138</td><td>175</td><td>0</td><td>0</td><td>173</td><td>0</td><td>0.0</td><td>1</td><td>?  </td><td>3.0</td><td>0</td></tr>\n",
       "</tbody>\n",
       "</table>\n"
      ],
      "text/latex": [
       "A spec\\_tbl\\_df: 303 × 14\n",
       "\\begin{tabular}{llllllllllllll}\n",
       " X1 & X2 & X3 & X4 & X5 & X6 & X7 & X8 & X9 & X10 & X11 & X12 & X13 & X14\\\\\n",
       " <dbl> & <dbl> & <dbl> & <dbl> & <dbl> & <dbl> & <dbl> & <dbl> & <dbl> & <dbl> & <dbl> & <chr> & <chr> & <dbl>\\\\\n",
       "\\hline\n",
       "\t 63 & 1 & 1 & 145 & 233 & 1 & 2 & 150 & 0 & 2.3 & 3 & 0.0 & 6.0 & 0\\\\\n",
       "\t 67 & 1 & 4 & 160 & 286 & 0 & 2 & 108 & 1 & 1.5 & 2 & 3.0 & 3.0 & 2\\\\\n",
       "\t 67 & 1 & 4 & 120 & 229 & 0 & 2 & 129 & 1 & 2.6 & 2 & 2.0 & 7.0 & 1\\\\\n",
       "\t ⋮ & ⋮ & ⋮ & ⋮ & ⋮ & ⋮ & ⋮ & ⋮ & ⋮ & ⋮ & ⋮ & ⋮ & ⋮ & ⋮\\\\\n",
       "\t 57 & 1 & 4 & 130 & 131 & 0 & 0 & 115 & 1 & 1.2 & 2 & 1.0 & 7.0 & 3\\\\\n",
       "\t 57 & 0 & 2 & 130 & 236 & 0 & 2 & 174 & 0 & 0.0 & 2 & 1.0 & 3.0 & 1\\\\\n",
       "\t 38 & 1 & 3 & 138 & 175 & 0 & 0 & 173 & 0 & 0.0 & 1 & ?   & 3.0 & 0\\\\\n",
       "\\end{tabular}\n"
      ],
      "text/markdown": [
       "\n",
       "A spec_tbl_df: 303 × 14\n",
       "\n",
       "| X1 &lt;dbl&gt; | X2 &lt;dbl&gt; | X3 &lt;dbl&gt; | X4 &lt;dbl&gt; | X5 &lt;dbl&gt; | X6 &lt;dbl&gt; | X7 &lt;dbl&gt; | X8 &lt;dbl&gt; | X9 &lt;dbl&gt; | X10 &lt;dbl&gt; | X11 &lt;dbl&gt; | X12 &lt;chr&gt; | X13 &lt;chr&gt; | X14 &lt;dbl&gt; |\n",
       "|---|---|---|---|---|---|---|---|---|---|---|---|---|---|\n",
       "| 63 | 1 | 1 | 145 | 233 | 1 | 2 | 150 | 0 | 2.3 | 3 | 0.0 | 6.0 | 0 |\n",
       "| 67 | 1 | 4 | 160 | 286 | 0 | 2 | 108 | 1 | 1.5 | 2 | 3.0 | 3.0 | 2 |\n",
       "| 67 | 1 | 4 | 120 | 229 | 0 | 2 | 129 | 1 | 2.6 | 2 | 2.0 | 7.0 | 1 |\n",
       "| ⋮ | ⋮ | ⋮ | ⋮ | ⋮ | ⋮ | ⋮ | ⋮ | ⋮ | ⋮ | ⋮ | ⋮ | ⋮ | ⋮ |\n",
       "| 57 | 1 | 4 | 130 | 131 | 0 | 0 | 115 | 1 | 1.2 | 2 | 1.0 | 7.0 | 3 |\n",
       "| 57 | 0 | 2 | 130 | 236 | 0 | 2 | 174 | 0 | 0.0 | 2 | 1.0 | 3.0 | 1 |\n",
       "| 38 | 1 | 3 | 138 | 175 | 0 | 0 | 173 | 0 | 0.0 | 1 | ?   | 3.0 | 0 |\n",
       "\n"
      ],
      "text/plain": [
       "    X1 X2 X3 X4  X5  X6 X7 X8  X9 X10 X11 X12 X13 X14\n",
       "1   63 1  1  145 233 1  2  150 0  2.3 3   0.0 6.0 0  \n",
       "2   67 1  4  160 286 0  2  108 1  1.5 2   3.0 3.0 2  \n",
       "3   67 1  4  120 229 0  2  129 1  2.6 2   2.0 7.0 1  \n",
       "⋮   ⋮  ⋮  ⋮  ⋮   ⋮   ⋮  ⋮  ⋮   ⋮  ⋮   ⋮   ⋮   ⋮   ⋮  \n",
       "301 57 1  4  130 131 0  0  115 1  1.2 2   1.0 7.0 3  \n",
       "302 57 0  2  130 236 0  2  174 0  0.0 2   1.0 3.0 1  \n",
       "303 38 1  3  138 175 0  0  173 0  0.0 1   ?   3.0 0  "
      ]
     },
     "metadata": {},
     "output_type": "display_data"
    }
   ],
   "source": [
    "# Source: https://raw.githubusercontent.com/UBC-DSCI/dsci-100-project_template/main/data/heart_disease/processed.cleveland.data\n",
    "\n",
    "clev_data <- read_csv(\"https://raw.githubusercontent.com/UBC-DSCI/dsci-100-project_template/main/data/heart_disease/processed.cleveland.data\", \n",
    "                     col_names = FALSE) \n",
    "clev_data"
   ]
  },
  {
   "cell_type": "markdown",
   "id": "fbdab0f3-4636-4601-b393-8749de96274b",
   "metadata": {},
   "source": [
    "#### Adding column names\n",
    "The dataframe does not come with column names, so those must be added. Some factor columns are also being read as <dbl> or <chr>, so those need to be changed as well."
   ]
  },
  {
   "cell_type": "code",
   "execution_count": 26,
   "id": "fbd2fea8-5d84-4309-81c1-61bf5c913b97",
   "metadata": {},
   "outputs": [
    {
     "data": {
      "text/html": [
       "<table class=\"dataframe\">\n",
       "<caption>A tibble: 303 × 15</caption>\n",
       "<thead>\n",
       "\t<tr><th scope=col>age</th><th scope=col>sex</th><th scope=col>cp</th><th scope=col>trestbps</th><th scope=col>chol</th><th scope=col>fbs</th><th scope=col>restecg</th><th scope=col>thalach</th><th scope=col>exang</th><th scope=col>oldpeak</th><th scope=col>slope</th><th scope=col>ca</th><th scope=col>thal</th><th scope=col>num</th><th scope=col>NA</th></tr>\n",
       "\t<tr><th scope=col>&lt;dbl&gt;</th><th scope=col>&lt;fct&gt;</th><th scope=col>&lt;fct&gt;</th><th scope=col>&lt;dbl&gt;</th><th scope=col>&lt;dbl&gt;</th><th scope=col>&lt;fct&gt;</th><th scope=col>&lt;fct&gt;</th><th scope=col>&lt;dbl&gt;</th><th scope=col>&lt;fct&gt;</th><th scope=col>&lt;dbl&gt;</th><th scope=col>&lt;fct&gt;</th><th scope=col>&lt;fct&gt;</th><th scope=col>&lt;fct&gt;</th><th scope=col>&lt;fct&gt;</th><th scope=col>&lt;fct&gt;</th></tr>\n",
       "</thead>\n",
       "<tbody>\n",
       "\t<tr><td>63</td><td>1</td><td>1</td><td>145</td><td>233</td><td>1</td><td>2</td><td>150</td><td>0</td><td>2.3</td><td>3</td><td>0</td><td>6</td><td>0</td><td>FALSE</td></tr>\n",
       "\t<tr><td>67</td><td>1</td><td>4</td><td>160</td><td>286</td><td>0</td><td>2</td><td>108</td><td>1</td><td>1.5</td><td>2</td><td>3</td><td>3</td><td>2</td><td>TRUE </td></tr>\n",
       "\t<tr><td>67</td><td>1</td><td>4</td><td>120</td><td>229</td><td>0</td><td>2</td><td>129</td><td>1</td><td>2.6</td><td>2</td><td>2</td><td>7</td><td>1</td><td>TRUE </td></tr>\n",
       "\t<tr><td>⋮</td><td>⋮</td><td>⋮</td><td>⋮</td><td>⋮</td><td>⋮</td><td>⋮</td><td>⋮</td><td>⋮</td><td>⋮</td><td>⋮</td><td>⋮</td><td>⋮</td><td>⋮</td><td>⋮</td></tr>\n",
       "\t<tr><td>57</td><td>1</td><td>4</td><td>130</td><td>131</td><td>0</td><td>0</td><td>115</td><td>1</td><td>1.2</td><td>2</td><td>1 </td><td>7</td><td>3</td><td>TRUE </td></tr>\n",
       "\t<tr><td>57</td><td>0</td><td>2</td><td>130</td><td>236</td><td>0</td><td>2</td><td>174</td><td>0</td><td>0.0</td><td>2</td><td>1 </td><td>3</td><td>1</td><td>TRUE </td></tr>\n",
       "\t<tr><td>38</td><td>1</td><td>3</td><td>138</td><td>175</td><td>0</td><td>0</td><td>173</td><td>0</td><td>0.0</td><td>1</td><td>NA</td><td>3</td><td>0</td><td>FALSE</td></tr>\n",
       "</tbody>\n",
       "</table>\n"
      ],
      "text/latex": [
       "A tibble: 303 × 15\n",
       "\\begin{tabular}{lllllllllllllll}\n",
       " age & sex & cp & trestbps & chol & fbs & restecg & thalach & exang & oldpeak & slope & ca & thal & num & NA\\\\\n",
       " <dbl> & <fct> & <fct> & <dbl> & <dbl> & <fct> & <fct> & <dbl> & <fct> & <dbl> & <fct> & <fct> & <fct> & <fct> & <fct>\\\\\n",
       "\\hline\n",
       "\t 63 & 1 & 1 & 145 & 233 & 1 & 2 & 150 & 0 & 2.3 & 3 & 0 & 6 & 0 & FALSE\\\\\n",
       "\t 67 & 1 & 4 & 160 & 286 & 0 & 2 & 108 & 1 & 1.5 & 2 & 3 & 3 & 2 & TRUE \\\\\n",
       "\t 67 & 1 & 4 & 120 & 229 & 0 & 2 & 129 & 1 & 2.6 & 2 & 2 & 7 & 1 & TRUE \\\\\n",
       "\t ⋮ & ⋮ & ⋮ & ⋮ & ⋮ & ⋮ & ⋮ & ⋮ & ⋮ & ⋮ & ⋮ & ⋮ & ⋮ & ⋮ & ⋮\\\\\n",
       "\t 57 & 1 & 4 & 130 & 131 & 0 & 0 & 115 & 1 & 1.2 & 2 & 1  & 7 & 3 & TRUE \\\\\n",
       "\t 57 & 0 & 2 & 130 & 236 & 0 & 2 & 174 & 0 & 0.0 & 2 & 1  & 3 & 1 & TRUE \\\\\n",
       "\t 38 & 1 & 3 & 138 & 175 & 0 & 0 & 173 & 0 & 0.0 & 1 & NA & 3 & 0 & FALSE\\\\\n",
       "\\end{tabular}\n"
      ],
      "text/markdown": [
       "\n",
       "A tibble: 303 × 15\n",
       "\n",
       "| age &lt;dbl&gt; | sex &lt;fct&gt; | cp &lt;fct&gt; | trestbps &lt;dbl&gt; | chol &lt;dbl&gt; | fbs &lt;fct&gt; | restecg &lt;fct&gt; | thalach &lt;dbl&gt; | exang &lt;fct&gt; | oldpeak &lt;dbl&gt; | slope &lt;fct&gt; | ca &lt;fct&gt; | thal &lt;fct&gt; | num &lt;fct&gt; | NA &lt;fct&gt; |\n",
       "|---|---|---|---|---|---|---|---|---|---|---|---|---|---|---|\n",
       "| 63 | 1 | 1 | 145 | 233 | 1 | 2 | 150 | 0 | 2.3 | 3 | 0 | 6 | 0 | FALSE |\n",
       "| 67 | 1 | 4 | 160 | 286 | 0 | 2 | 108 | 1 | 1.5 | 2 | 3 | 3 | 2 | TRUE  |\n",
       "| 67 | 1 | 4 | 120 | 229 | 0 | 2 | 129 | 1 | 2.6 | 2 | 2 | 7 | 1 | TRUE  |\n",
       "| ⋮ | ⋮ | ⋮ | ⋮ | ⋮ | ⋮ | ⋮ | ⋮ | ⋮ | ⋮ | ⋮ | ⋮ | ⋮ | ⋮ | ⋮ |\n",
       "| 57 | 1 | 4 | 130 | 131 | 0 | 0 | 115 | 1 | 1.2 | 2 | 1  | 7 | 3 | TRUE  |\n",
       "| 57 | 0 | 2 | 130 | 236 | 0 | 2 | 174 | 0 | 0.0 | 2 | 1  | 3 | 1 | TRUE  |\n",
       "| 38 | 1 | 3 | 138 | 175 | 0 | 0 | 173 | 0 | 0.0 | 1 | NA | 3 | 0 | FALSE |\n",
       "\n"
      ],
      "text/plain": [
       "    age sex cp trestbps chol fbs restecg thalach exang oldpeak slope ca thal\n",
       "1   63  1   1  145      233  1   2       150     0     2.3     3     0  6   \n",
       "2   67  1   4  160      286  0   2       108     1     1.5     2     3  3   \n",
       "3   67  1   4  120      229  0   2       129     1     2.6     2     2  7   \n",
       "⋮   ⋮   ⋮   ⋮  ⋮        ⋮    ⋮   ⋮       ⋮       ⋮     ⋮       ⋮     ⋮  ⋮   \n",
       "301 57  1   4  130      131  0   0       115     1     1.2     2     1  7   \n",
       "302 57  0   2  130      236  0   2       174     0     0.0     2     1  3   \n",
       "303 38  1   3  138      175  0   0       173     0     0.0     1     NA 3   \n",
       "    num <NA> \n",
       "1   0   FALSE\n",
       "2   2   TRUE \n",
       "3   1   TRUE \n",
       "⋮   ⋮   ⋮    \n",
       "301 3   TRUE \n",
       "302 1   TRUE \n",
       "303 0   FALSE"
      ]
     },
     "metadata": {},
     "output_type": "display_data"
    }
   ],
   "source": [
    "#Adding column names\n",
    "colnames(clev_data) <- c(\"age\", \"sex\", \"cp\", \"trestbps\", \"chol\", \"fbs\", \"restecg\", \n",
    "                               \"thalach\", \"exang\", \"oldpeak\", \"slope\", \"ca\", \"thal\", \"num\")\n",
    "\n",
    "clev_data"
   ]
  },
  {
   "cell_type": "markdown",
   "id": "b0df5de2-de1d-44c9-884c-0c37d3051932",
   "metadata": {},
   "source": [
    "#### Removing NA values\n",
    "In this section, we removing the missing values from our raw data set. This is because missing values degrade the performance of the knn model, and removing them improves the overall quality of the dataset. Here, we first determine the number of missing values, then remove them using na.omit() and perform a final check to confirm that all missing values in the dataset have been removed. Using this new clean dataset, it's time to move on to building the classification model. "
   ]
  },
  {
   "cell_type": "code",
   "execution_count": 27,
   "id": "2e79bd6e-451b-464b-bb21-bd9807ea9991",
   "metadata": {},
   "outputs": [
    {
     "data": {
      "text/html": [
       "303"
      ],
      "text/latex": [
       "303"
      ],
      "text/markdown": [
       "303"
      ],
      "text/plain": [
       "[1] 303"
      ]
     },
     "metadata": {},
     "output_type": "display_data"
    },
    {
     "data": {
      "text/html": [
       "<table class=\"dataframe\">\n",
       "<caption>A tibble: 303 × 3</caption>\n",
       "<thead>\n",
       "\t<tr><th scope=col>age</th><th scope=col>trestbps</th><th scope=col>thalach</th></tr>\n",
       "\t<tr><th scope=col>&lt;dbl&gt;</th><th scope=col>&lt;dbl&gt;</th><th scope=col>&lt;dbl&gt;</th></tr>\n",
       "</thead>\n",
       "<tbody>\n",
       "\t<tr><td>63</td><td>145</td><td>150</td></tr>\n",
       "\t<tr><td>67</td><td>160</td><td>108</td></tr>\n",
       "\t<tr><td>67</td><td>120</td><td>129</td></tr>\n",
       "\t<tr><td>⋮</td><td>⋮</td><td>⋮</td></tr>\n",
       "\t<tr><td>57</td><td>130</td><td>115</td></tr>\n",
       "\t<tr><td>57</td><td>130</td><td>174</td></tr>\n",
       "\t<tr><td>38</td><td>138</td><td>173</td></tr>\n",
       "</tbody>\n",
       "</table>\n"
      ],
      "text/latex": [
       "A tibble: 303 × 3\n",
       "\\begin{tabular}{lll}\n",
       " age & trestbps & thalach\\\\\n",
       " <dbl> & <dbl> & <dbl>\\\\\n",
       "\\hline\n",
       "\t 63 & 145 & 150\\\\\n",
       "\t 67 & 160 & 108\\\\\n",
       "\t 67 & 120 & 129\\\\\n",
       "\t ⋮ & ⋮ & ⋮\\\\\n",
       "\t 57 & 130 & 115\\\\\n",
       "\t 57 & 130 & 174\\\\\n",
       "\t 38 & 138 & 173\\\\\n",
       "\\end{tabular}\n"
      ],
      "text/markdown": [
       "\n",
       "A tibble: 303 × 3\n",
       "\n",
       "| age &lt;dbl&gt; | trestbps &lt;dbl&gt; | thalach &lt;dbl&gt; |\n",
       "|---|---|---|\n",
       "| 63 | 145 | 150 |\n",
       "| 67 | 160 | 108 |\n",
       "| 67 | 120 | 129 |\n",
       "| ⋮ | ⋮ | ⋮ |\n",
       "| 57 | 130 | 115 |\n",
       "| 57 | 130 | 174 |\n",
       "| 38 | 138 | 173 |\n",
       "\n"
      ],
      "text/plain": [
       "    age trestbps thalach\n",
       "1   63  145      150    \n",
       "2   67  160      108    \n",
       "3   67  120      129    \n",
       "⋮   ⋮   ⋮        ⋮      \n",
       "301 57  130      115    \n",
       "302 57  130      174    \n",
       "303 38  138      173    "
      ]
     },
     "metadata": {},
     "output_type": "display_data"
    },
    {
     "data": {
      "text/html": [
       "<table class=\"dataframe\">\n",
       "<caption>A tibble: 1 × 3</caption>\n",
       "<thead>\n",
       "\t<tr><th scope=col>age</th><th scope=col>trestbps</th><th scope=col>thalach</th></tr>\n",
       "\t<tr><th scope=col>&lt;int&gt;</th><th scope=col>&lt;int&gt;</th><th scope=col>&lt;int&gt;</th></tr>\n",
       "</thead>\n",
       "<tbody>\n",
       "\t<tr><td>0</td><td>0</td><td>0</td></tr>\n",
       "</tbody>\n",
       "</table>\n"
      ],
      "text/latex": [
       "A tibble: 1 × 3\n",
       "\\begin{tabular}{lll}\n",
       " age & trestbps & thalach\\\\\n",
       " <int> & <int> & <int>\\\\\n",
       "\\hline\n",
       "\t 0 & 0 & 0\\\\\n",
       "\\end{tabular}\n"
      ],
      "text/markdown": [
       "\n",
       "A tibble: 1 × 3\n",
       "\n",
       "| age &lt;int&gt; | trestbps &lt;int&gt; | thalach &lt;int&gt; |\n",
       "|---|---|---|\n",
       "| 0 | 0 | 0 |\n",
       "\n"
      ],
      "text/plain": [
       "  age trestbps thalach\n",
       "1 0   0        0      "
      ]
     },
     "metadata": {},
     "output_type": "display_data"
    }
   ],
   "source": [
    "#Determining how many missing values there are\n",
    "#Select the variables that will be used for analysis\n",
    "clev_na <- clev_data|> \n",
    "    select(age, trestbps, thalach) |>\n",
    "    is.na()|>\n",
    "    nrow()\n",
    "\n",
    "clev_na\n",
    "\n",
    "#removing missing values \n",
    "clev_data[clev_data == \"?\"] <- NA\n",
    "\n",
    "clev_no_NA <- clev_data |>\n",
    "select(age, trestbps, thalach) |> \n",
    "        na.omit()\n",
    "clev_no_NA\n",
    "\n",
    "\n",
    "#Checking if any NA values remain after removal\n",
    "check <- clev_no_NA |>\n",
    "            map_df(~sum(is.na(.x)))\n",
    "check"
   ]
  },
  {
   "cell_type": "markdown",
   "id": "589bd8c8-8cb6-4149-80c8-36fe58e7ae58",
   "metadata": {},
   "source": [
    "Now the data is tidy, that each observation has its own row, with each column referencing a single variable, and each cell containing one value. "
   ]
  },
  {
   "cell_type": "markdown",
   "id": "5c423d65-8840-4e87-82c3-b5611c2e26e6",
   "metadata": {},
   "source": [
    "## Bibliography\n",
    "\n",
    "Professional, Cleveland Clinic Medical. “Heart Disease.” Cleveland Clinic, https://my.clevelandclinic.org/health/diseases/24129-heart-disease.\n",
    "\n",
    "Christofaro, D. G. D., Casonatto, J., Vanderlei, L. C. M., Cucato, G. G., & Dias, R. M. R. (2017, May). Relationship between resting heart rate, blood pressure and pulse pressure in adolescents. Arquivos brasileiros de cardiologia. https://www.ncbi.nlm.nih.gov/pmc/articles/PMC5444886/ \n",
    "\n",
    "Janosi,Andras, Steinbrunn,William, Pfisterer,Matthias, and Detrano,Robert. (1988). Heart Disease. UCI Machine Learning Repository. https://doi.org/10.24432/C52P4X.\n",
    "\n",
    "The creators of the Heart Disease Database are:\n",
    "\n",
    "    1. Andras Janosi\n",
    "    2. William Steinbrunn\n",
    "    3. Matthias Pfisterer\n",
    "    4. Robert Detrano"
   ]
  },
  {
   "cell_type": "code",
   "execution_count": null,
   "id": "2f7dc8d5-63ae-49b9-a90a-18184466ecee",
   "metadata": {},
   "outputs": [],
   "source": []
  }
 ],
 "metadata": {
  "kernelspec": {
   "display_name": "R",
   "language": "R",
   "name": "ir"
  },
  "language_info": {
   "codemirror_mode": "r",
   "file_extension": ".r",
   "mimetype": "text/x-r-source",
   "name": "R",
   "pygments_lexer": "r",
   "version": "4.3.1"
  }
 },
 "nbformat": 4,
 "nbformat_minor": 5
}
